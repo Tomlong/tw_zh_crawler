{
 "cells": [
  {
   "cell_type": "markdown",
   "metadata": {},
   "source": [
    "\n",
    "- 此 script 用來搬運 mongo 內新聞的 html 資料到 minio，降低 mongo 的使用空間\n"
   ]
  },
  {
   "cell_type": "code",
   "execution_count": 1,
   "metadata": {},
   "outputs": [],
   "source": [
    "import io\n",
    "import json\n",
    "import pymongo\n",
    "from minio import Minio\n",
    "from datetime import datetime"
   ]
  },
  {
   "cell_type": "code",
   "execution_count": 2,
   "metadata": {},
   "outputs": [],
   "source": [
    "MONGO_URI = \"mongodb://192.168.3.21:27019\"\n",
    "MINIO_URI = \"192.168.3.21:27018\"\n",
    "mongo_client = pymongo.MongoClient(MONGO_URI)\n",
    "minio_client = Minio(MINIO_URI, access_key=\"test\", secret_key=\"testtest\", secure=False)\n",
    "TODAY_STR = datetime.today().strftime(\"%Y_%m_%d\")\n",
    "CHUNCK_SIZE = 20000 # depends on your device memory\n",
    "# yahoo 5000 other 50000"
   ]
  },
  {
   "cell_type": "markdown",
   "metadata": {},
   "source": [
    "# Write html data to Minio"
   ]
  },
  {
   "cell_type": "code",
   "execution_count": 3,
   "metadata": {},
   "outputs": [],
   "source": [
    "def run(db):\n",
    "    collection = db[\"html_data\"]\n",
    "    results = collection.find({})\n",
    "    data_length = results.count()\n",
    "    print(\"\\t html_data length: {}\".format(data_length))\n",
    "    for i, start in enumerate(range(0, data_length, CHUNCK_SIZE)):\n",
    "        results = collection.find({})\n",
    "        data_jsons = [{\"id\": str(result[\"_id\"]), \"html_text\": result[\"html_text\"]} for result in results[start:start+CHUNCK_SIZE]]\n",
    "        write_to_minio(data_jsons, db.name, i)\n",
    "\n",
    "def run_industry(db, collection_name):\n",
    "    collection = db[collection_name]\n",
    "    industry_name = collection_name.split(\"_html_data\")[0]\n",
    "    results = collection.find({})\n",
    "    data_length = results.count()\n",
    "    print(\"\\t {} length: {}\".format(collection_name, data_length))\n",
    "    for i, start in enumerate(range(0, data_length, CHUNCK_SIZE)):\n",
    "        results = collection.find({})\n",
    "        data_jsons = [{\"id\": str(result[\"_id\"]), \"html_text\": result[\"html_text\"]} for result in results[start:start+CHUNCK_SIZE]]\n",
    "        write_to_minio(data_jsons, db.name, i, industry_name)\n",
    "\n",
    "def write_to_minio(data_jsons, db_name, num, industry_name=None):\n",
    "    data_str = json.dumps(data_jsons)\n",
    "    data_bytes = data_str.encode('utf-8')\n",
    "    data_stream = io.BytesIO(data_bytes)\n",
    "    bucket_name = db_name.replace(\"_\", \"-\")\n",
    "    if not minio_client.bucket_exists(bucket_name):\n",
    "        minio_client.make_bucket(bucket_name)\n",
    "    if industry_name is None:\n",
    "        minio_client.put_object(bucket_name, \"{}_html_data_{}\".format(TODAY_STR, num+1), data=data_stream , length=data_stream.getbuffer().nbytes)\n",
    "    else:\n",
    "        minio_client.put_object(bucket_name, \"{}_{}_html_data_{}\".format(TODAY_STR, industry_name, num+1), data=data_stream , length=data_stream.getbuffer().nbytes)"
   ]
  },
  {
   "cell_type": "code",
   "execution_count": 4,
   "metadata": {},
   "outputs": [
    {
     "name": "stdout",
     "output_type": "stream",
     "text": [
      "start migrate yahoo_data html_data....\n",
      "\t html_data length: 249701\n"
     ]
    },
    {
     "name": "stderr",
     "output_type": "stream",
     "text": [
      "/home/terrylin/anaconda3/envs/tensorflow/lib/python3.7/site-packages/ipykernel_launcher.py:4: DeprecationWarning: count is deprecated. Use Collection.count_documents instead.\n",
      "  after removing the cwd from sys.path.\n"
     ]
    }
   ],
   "source": [
    "for db_name in mongo_client.list_database_names():\n",
    "    db = mongo_client[db_name]\n",
    "    if html_collection_name not in db.list_collection_names():\n",
    "        continue\n",
    "    print(\"start migrate {} html_data....\".format(db_name))\n",
    "#     run(db)\n",
    "    try:\n",
    "        run(db)\n",
    "    except Exception as e:\n",
    "        print(\"write {} html_data wrong: {}\".format(db_name, e))\n",
    "        continue"
   ]
  },
  {
   "cell_type": "markdown",
   "metadata": {},
   "source": [
    "# Industry html migrate"
   ]
  },
  {
   "cell_type": "code",
   "execution_count": 4,
   "metadata": {},
   "outputs": [
    {
     "name": "stdout",
     "output_type": "stream",
     "text": [
      "start migrate travel_html_data....\n",
      "\t travel_html_data length: 692357\n"
     ]
    },
    {
     "name": "stderr",
     "output_type": "stream",
     "text": [
      "/home/terrylin/anaconda3/envs/tensorflow/lib/python3.7/site-packages/ipykernel_launcher.py:15: DeprecationWarning: count is deprecated. Use Collection.count_documents instead.\n",
      "  from ipykernel import kernelapp as app\n"
     ]
    },
    {
     "name": "stdout",
     "output_type": "stream",
     "text": [
      "start migrate inv_trust_html_data....\n",
      "\t inv_trust_html_data length: 145837\n",
      "start migrate transport_html_data....\n",
      "\t transport_html_data length: 18597\n"
     ]
    }
   ],
   "source": [
    "industry_db_name = \"industry_data\"\n",
    "db = mongo_client[industry_db_name]\n",
    "\n",
    "for collection_name in db.list_collection_names():\n",
    "    if collection_name.endswith(\"html_data\"):\n",
    "        print(\"start migrate {}....\".format(collection_name))\n",
    "        run_industry(db, collection_name)"
   ]
  },
  {
   "cell_type": "markdown",
   "metadata": {},
   "source": [
    "# Load back html data"
   ]
  },
  {
   "cell_type": "code",
   "execution_count": 6,
   "metadata": {},
   "outputs": [],
   "source": [
    "def get_minio_data(bucket_name, file_name):\n",
    "    stream = minio_client.get_object(bucket_name, file_name)\n",
    "    s = stream.read()\n",
    "    return s"
   ]
  },
  {
   "cell_type": "code",
   "execution_count": null,
   "metadata": {},
   "outputs": [],
   "source": [
    "bucket_name = \"yahoo-data\"\n",
    "filename = \"{}_html_data_1\".format(TODAY_STR)\n",
    "minio_data = get_minio_data(bucket_name, filename)\n",
    "data_jsons = json.loads(minio_data)"
   ]
  },
  {
   "cell_type": "code",
   "execution_count": null,
   "metadata": {},
   "outputs": [],
   "source": [
    "len(data_jsons)"
   ]
  },
  {
   "cell_type": "code",
   "execution_count": null,
   "metadata": {},
   "outputs": [],
   "source": []
  }
 ],
 "metadata": {
  "kernelspec": {
   "display_name": "Python 3",
   "language": "python",
   "name": "python3"
  },
  "language_info": {
   "codemirror_mode": {
    "name": "ipython",
    "version": 3
   },
   "file_extension": ".py",
   "mimetype": "text/x-python",
   "name": "python",
   "nbconvert_exporter": "python",
   "pygments_lexer": "ipython3",
   "version": "3.7.6"
  }
 },
 "nbformat": 4,
 "nbformat_minor": 4
}
